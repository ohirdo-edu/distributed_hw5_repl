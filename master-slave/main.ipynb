{
 "cells": [
  {
   "cell_type": "markdown",
   "source": [
    "В якості бази даних використовується PostgreSQL, налаштування знаходиться у [Docker compose файлі](./compose.yaml).\n",
    "Проблем не виникло"
   ],
   "metadata": {
    "collapsed": false
   },
   "id": "94bb8a9ca7f2e7a"
  },
  {
   "cell_type": "code",
   "execution_count": 1,
   "id": "initial_id",
   "metadata": {
    "collapsed": true,
    "ExecuteTime": {
     "end_time": "2023-11-14T00:20:41.950745Z",
     "start_time": "2023-11-14T00:20:41.934735Z"
    }
   },
   "outputs": [],
   "source": [
    "import psycopg2"
   ]
  },
  {
   "cell_type": "code",
   "execution_count": 2,
   "outputs": [],
   "source": [
    "master_connection = psycopg2.connect(dbname=\"development_database\", user=\"postgres\",\n",
    "                                     password='postgres', host='localhost', port=5432)\n",
    "slave_connection = psycopg2.connect(dbname=\"development_database\", user=\"repl_user\",\n",
    "                                    password='repl_user', host='localhost', port=5433)"
   ],
   "metadata": {
    "collapsed": false,
    "ExecuteTime": {
     "end_time": "2023-11-14T00:20:42.770224Z",
     "start_time": "2023-11-14T00:20:42.699792Z"
    }
   },
   "id": "bc92dac9101452fc"
  },
  {
   "cell_type": "markdown",
   "source": [
    "Створюємо таблицю в мастер ноді та пишемо в неї тестові дані"
   ],
   "metadata": {
    "collapsed": false
   },
   "id": "b51ba2c3dc0fa34f"
  },
  {
   "cell_type": "code",
   "execution_count": 3,
   "outputs": [],
   "source": [
    "with master_connection:\n",
    "    with master_connection.cursor() as cursor:\n",
    "        cursor.execute('DROP TABLE IF EXISTS messages')\n",
    "        cursor.execute('CREATE TABLE IF NOT EXISTS messages (id serial, body varchar)')\n",
    "        cursor.execute('INSERT INTO messages (body) values (%s)', ('Test message',))"
   ],
   "metadata": {
    "collapsed": false,
    "ExecuteTime": {
     "end_time": "2023-11-14T00:20:45.692809Z",
     "start_time": "2023-11-14T00:20:45.658972Z"
    }
   },
   "id": "792c65db6ad36fbd"
  },
  {
   "cell_type": "markdown",
   "source": [
    "Перевіряємо, що щойно записані дані можна вичитати зі slave ноди."
   ],
   "metadata": {
    "collapsed": false
   },
   "id": "c2498b1e1f107bc6"
  },
  {
   "cell_type": "code",
   "execution_count": 4,
   "outputs": [
    {
     "name": "stdout",
     "output_type": "stream",
     "text": [
      "[(1, 'Test message')]\n"
     ]
    }
   ],
   "source": [
    "with slave_connection:\n",
    "    with slave_connection.cursor() as cursor:\n",
    "        cursor.execute('SELECT * FROM messages')\n",
    "        print(cursor.fetchall())"
   ],
   "metadata": {
    "collapsed": false,
    "ExecuteTime": {
     "end_time": "2023-11-14T00:20:47.691742Z",
     "start_time": "2023-11-14T00:20:47.676668Z"
    }
   },
   "id": "65a0b7f1e2a169d6"
  }
 ],
 "metadata": {
  "kernelspec": {
   "display_name": "Python 3",
   "language": "python",
   "name": "python3"
  },
  "language_info": {
   "codemirror_mode": {
    "name": "ipython",
    "version": 2
   },
   "file_extension": ".py",
   "mimetype": "text/x-python",
   "name": "python",
   "nbconvert_exporter": "python",
   "pygments_lexer": "ipython2",
   "version": "2.7.6"
  }
 },
 "nbformat": 4,
 "nbformat_minor": 5
}
