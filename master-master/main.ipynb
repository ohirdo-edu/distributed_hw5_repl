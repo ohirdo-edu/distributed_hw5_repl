{
 "cells": [
  {
   "cell_type": "markdown",
   "source": [
    "В якості бази даних використовується MySQL із трьох master нод.\n",
    "\n",
    "Налаштування знаходиться у [Docker Compose файлі](./compose.yaml). Після цього необхідно запустити [додатковий скрипт](./setup.sh). "
   ],
   "metadata": {
    "collapsed": false
   },
   "id": "606e3ec529e06bfe"
  },
  {
   "cell_type": "code",
   "execution_count": 1,
   "id": "initial_id",
   "metadata": {
    "collapsed": true,
    "ExecuteTime": {
     "end_time": "2023-11-14T00:09:32.422673Z",
     "start_time": "2023-11-14T00:09:32.412245Z"
    }
   },
   "outputs": [],
   "source": [
    "import mysql.connector"
   ]
  },
  {
   "cell_type": "code",
   "execution_count": 2,
   "outputs": [],
   "source": [
    "connection_to_node_1, connection_to_node_2, connection_to_node_3 = [\n",
    "    mysql.connector.connect(\n",
    "        database='test',\n",
    "        user='myuser',\n",
    "        password='mypass',\n",
    "        host='localhost',\n",
    "        port=3307 + i,\n",
    "        autocommit=True,\n",
    "    ) for i in range(3)\n",
    "]"
   ],
   "metadata": {
    "collapsed": false,
    "ExecuteTime": {
     "end_time": "2023-11-14T00:09:33.555205Z",
     "start_time": "2023-11-14T00:09:33.531841Z"
    }
   },
   "id": "d07d791628e27f37"
  },
  {
   "cell_type": "code",
   "execution_count": 3,
   "outputs": [],
   "source": [
    "def write_message(message: str, connection):\n",
    "    with connection.cursor() as cursor:\n",
    "        cursor.execute('INSERT INTO messages (body) values (%s)', (message,))"
   ],
   "metadata": {
    "collapsed": false,
    "ExecuteTime": {
     "end_time": "2023-11-14T00:09:34.393672Z",
     "start_time": "2023-11-14T00:09:34.388859Z"
    }
   },
   "id": "4a9932d1f154f9e4"
  },
  {
   "cell_type": "code",
   "execution_count": 4,
   "outputs": [],
   "source": [
    "def show_messages(connection):\n",
    "    with connection.cursor() as cursor:\n",
    "        cursor.execute('SELECT * FROM messages')\n",
    "        print(cursor.fetchall())"
   ],
   "metadata": {
    "collapsed": false,
    "ExecuteTime": {
     "end_time": "2023-11-14T00:09:35.011320Z",
     "start_time": "2023-11-14T00:09:35.007284Z"
    }
   },
   "id": "672db8552b9ccb18"
  },
  {
   "cell_type": "code",
   "execution_count": 5,
   "outputs": [],
   "source": [
    "with connection_to_node_1.cursor() as cursor:\n",
    "    cursor.execute('DROP TABLE IF EXISTS messages')\n",
    "    cursor.execute(\"\"\"\n",
    "        CREATE TABLE IF NOT EXISTS messages (\n",
    "            id int AUTO_INCREMENT,\n",
    "            body varchar(255),\n",
    "            PRIMARY KEY (id)\n",
    "        )\n",
    "    \"\"\")"
   ],
   "metadata": {
    "collapsed": false,
    "ExecuteTime": {
     "end_time": "2023-11-14T00:09:36.642807Z",
     "start_time": "2023-11-14T00:09:36.604364Z"
    }
   },
   "id": "c26509ecc894bf37"
  },
  {
   "cell_type": "markdown",
   "source": [
    "Пишемо тестові дані в ноду 1 та перевіряємо, що вони доступні при читанні з ноди 2."
   ],
   "metadata": {
    "collapsed": false
   },
   "id": "d4e4768b6385f14"
  },
  {
   "cell_type": "code",
   "execution_count": 6,
   "outputs": [],
   "source": [
    "write_message('Message to node 1', connection_to_node_1)"
   ],
   "metadata": {
    "collapsed": false,
    "ExecuteTime": {
     "end_time": "2023-11-14T00:09:38.930931Z",
     "start_time": "2023-11-14T00:09:38.919277Z"
    }
   },
   "id": "dd5899aef16c188c"
  },
  {
   "cell_type": "code",
   "execution_count": 7,
   "outputs": [
    {
     "name": "stdout",
     "output_type": "stream",
     "text": [
      "[(1, 'Message to node 1')]\n"
     ]
    }
   ],
   "source": [
    "show_messages(connection_to_node_2)"
   ],
   "metadata": {
    "collapsed": false,
    "ExecuteTime": {
     "end_time": "2023-11-14T00:09:40.812287Z",
     "start_time": "2023-11-14T00:09:40.802958Z"
    }
   },
   "id": "7f10628a7335912b"
  },
  {
   "cell_type": "markdown",
   "source": [
    "Пишемо тестові дані в ноду 2 та перевіряємо, що вони доступні при читанні з ноди 3."
   ],
   "metadata": {
    "collapsed": false
   },
   "id": "b1839e1746b674b8"
  },
  {
   "cell_type": "code",
   "execution_count": 8,
   "outputs": [],
   "source": [
    "write_message('Message to node 2', connection_to_node_2)"
   ],
   "metadata": {
    "collapsed": false,
    "ExecuteTime": {
     "end_time": "2023-11-14T00:09:42.750151Z",
     "start_time": "2023-11-14T00:09:42.714926Z"
    }
   },
   "id": "2937454d56fe5c97"
  },
  {
   "cell_type": "code",
   "execution_count": 9,
   "outputs": [
    {
     "name": "stdout",
     "output_type": "stream",
     "text": [
      "[(1, 'Message to node 1'), (2, 'Message to node 2')]\n"
     ]
    }
   ],
   "source": [
    "show_messages(connection_to_node_3)"
   ],
   "metadata": {
    "collapsed": false,
    "ExecuteTime": {
     "end_time": "2023-11-14T00:09:44.109587Z",
     "start_time": "2023-11-14T00:09:44.102047Z"
    }
   },
   "id": "e4dca8762afec134"
  },
  {
   "cell_type": "markdown",
   "source": [
    "Перевіряємо, що вміст всіх трьох нод однаковий"
   ],
   "metadata": {
    "collapsed": false
   },
   "id": "e2dc973ca7a01fe7"
  },
  {
   "cell_type": "code",
   "execution_count": 10,
   "outputs": [
    {
     "name": "stdout",
     "output_type": "stream",
     "text": [
      "[(1, 'Message to node 1'), (2, 'Message to node 2')]\n",
      "[(1, 'Message to node 1'), (2, 'Message to node 2')]\n",
      "[(1, 'Message to node 1'), (2, 'Message to node 2')]\n"
     ]
    }
   ],
   "source": [
    "show_messages(connection_to_node_1)\n",
    "show_messages(connection_to_node_2)\n",
    "show_messages(connection_to_node_3)"
   ],
   "metadata": {
    "collapsed": false,
    "ExecuteTime": {
     "end_time": "2023-11-14T00:09:55.516927Z",
     "start_time": "2023-11-14T00:09:55.504458Z"
    }
   },
   "id": "a0cc35266b0e4148"
  }
 ],
 "metadata": {
  "kernelspec": {
   "display_name": "Python 3",
   "language": "python",
   "name": "python3"
  },
  "language_info": {
   "codemirror_mode": {
    "name": "ipython",
    "version": 2
   },
   "file_extension": ".py",
   "mimetype": "text/x-python",
   "name": "python",
   "nbconvert_exporter": "python",
   "pygments_lexer": "ipython2",
   "version": "2.7.6"
  }
 },
 "nbformat": 4,
 "nbformat_minor": 5
}
